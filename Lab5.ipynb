{
  "nbformat": 4,
  "nbformat_minor": 0,
  "metadata": {
    "colab": {
      "name": "Lab5.ipynb",
      "provenance": []
    },
    "kernelspec": {
      "name": "python3",
      "display_name": "Python 3"
    },
    "language_info": {
      "name": "python"
    }
  },
  "cells": [
    {
      "cell_type": "code",
      "metadata": {
        "colab": {
          "base_uri": "https://localhost:8080/"
        },
        "id": "BNN60eq0k2xR",
        "outputId": "f9917b99-5a96-4746-cf7f-7eb8902ddde4"
      },
      "source": [
        "import numpy as np\n",
        "\n",
        "a = np.array([1, 2, 3])\n",
        "b = np.array([[1 , 2, 3, 4], [5, 6, 7, 8], [9, 10, 11, 12]])\n",
        "print(a)\n",
        "print(b)"
      ],
      "execution_count": 1,
      "outputs": [
        {
          "output_type": "stream",
          "name": "stdout",
          "text": [
            "[1 2 3]\n",
            "[[ 1  2  3  4]\n",
            " [ 5  6  7  8]\n",
            " [ 9 10 11 12]]\n"
          ]
        }
      ]
    },
    {
      "cell_type": "code",
      "metadata": {
        "colab": {
          "base_uri": "https://localhost:8080/"
        },
        "id": "yY6Ke27Vk-iY",
        "outputId": "6995a9af-c3c3-446e-b40a-b0731ac42242"
      },
      "source": [
        "#Returns a new array of given shape and type with zeros\n",
        "c=np.zeros(2)\n",
        "print(c)\n",
        "\n",
        "#Returns a new array of given shape and type with ones\n",
        "d=np.ones(4)\n",
        "print(d)\n",
        "\n",
        "e = np.ones(2, dtype=int)\n",
        "print(e)\n",
        "\n",
        "#Returns a new array of given shape and type without initializing entries\n",
        "f=np.empty([4])\n",
        "print(f)\n",
        "\n",
        "#Returns an array with evenly spaced elements as per the interval\n",
        "g=np.arange(7)\n",
        "print(g)\n",
        "\n",
        "h=np.arange(2,9,2)\n",
        "print(h)\n",
        "\n",
        "#Returns a new array with the deletion of sub-arrays\n",
        "i=np.delete(h, 2)\n",
        "print(i)\n",
        "\n",
        "#Returns a sorted array in ascending order\n",
        "z = np.array([19, 22, 34, 14, 55, 76, 47, 8])\n",
        "print(z)\n",
        "j=np.sort(z)\n",
        "print(j)"
      ],
      "execution_count": 2,
      "outputs": [
        {
          "output_type": "stream",
          "name": "stdout",
          "text": [
            "[0. 0.]\n",
            "[1. 1. 1. 1.]\n",
            "[1 1]\n",
            "[1. 1. 1. 1.]\n",
            "[0 1 2 3 4 5 6]\n",
            "[2 4 6 8]\n",
            "[2 4 8]\n",
            "[19 22 34 14 55 76 47  8]\n",
            "[ 8 14 19 22 34 47 55 76]\n"
          ]
        }
      ]
    },
    {
      "cell_type": "code",
      "metadata": {
        "colab": {
          "base_uri": "https://localhost:8080/"
        },
        "id": "-73cFG5plDpn",
        "outputId": "1de07302-1272-4dcf-ccf3-fc91f989ead7"
      },
      "source": [
        "arr = np.array([[1, 2, 3], [4, 5, 6]])\n",
        "a=arr.ndim #dimension\n",
        "b=arr.size #size\n",
        "c=arr.shape #shape\n",
        "print(arr) \n",
        "print(\"dimensions = \",a,\"\\nsize = \",b,\"\\nshape =\",c)\n",
        "\n",
        "#Shapes an array without changing the data of the array.\n",
        "y = arr.reshape(3,2)\n",
        "print(\"\\nAfter reshaping\\n\",y)"
      ],
      "execution_count": 3,
      "outputs": [
        {
          "output_type": "stream",
          "name": "stdout",
          "text": [
            "[[1 2 3]\n",
            " [4 5 6]]\n",
            "dimensions =  2 \n",
            "size =  6 \n",
            "shape = (2, 3)\n",
            "\n",
            "After reshaping\n",
            " [[1 2]\n",
            " [3 4]\n",
            " [5 6]]\n"
          ]
        }
      ]
    },
    {
      "cell_type": "code",
      "metadata": {
        "colab": {
          "base_uri": "https://localhost:8080/"
        },
        "id": "u7IhRYs0lHRf",
        "outputId": "15f6ecde-d3a5-41b0-f3f5-54b28729b22a"
      },
      "source": [
        "a=np.array(5)\n",
        "print(\"A= \",a)\n",
        "b=np.array([1,2,3])\n",
        "print(\"B= \", b)\n",
        "\n",
        "#Addition\n",
        "addition= np.add(a,b)\n",
        "print(\"\\nAfter Addition =\", addition)\n",
        "\n",
        "#Subtraction\n",
        "sub=np.subtract(b,a)\n",
        "print(\"After Subtraction =\",sub)\n",
        "\n",
        "#Multiplication\n",
        "mul=np.multiply (a,b)\n",
        "print(\"After Multiplcation =\",mul)\n",
        "\n",
        "#Division\n",
        "div=np.divide (b,a)\n",
        "print(\"After Division =\",div)\n",
        "\n",
        "div1=np.divide (b,10)\n",
        "print(\"After Division =\",div1)\n",
        "\n",
        "#Reciprocal\n",
        "rec=np.reciprocal(div) \n",
        "print(rec)\n",
        "\n",
        "#Power\n",
        "pow=np.power(a,2)\n",
        "print(\"after ^2 = \", pow)"
      ],
      "execution_count": 4,
      "outputs": [
        {
          "output_type": "stream",
          "name": "stdout",
          "text": [
            "A=  5\n",
            "B=  [1 2 3]\n",
            "\n",
            "After Addition = [6 7 8]\n",
            "After Subtraction = [-4 -3 -2]\n",
            "After Multiplcation = [ 5 10 15]\n",
            "After Division = [0.2 0.4 0.6]\n",
            "After Division = [0.1 0.2 0.3]\n",
            "[5.         2.5        1.66666667]\n",
            "after ^2 =  25\n"
          ]
        }
      ]
    },
    {
      "cell_type": "code",
      "metadata": {
        "colab": {
          "base_uri": "https://localhost:8080/"
        },
        "id": "43uDbIIZlR5g",
        "outputId": "96949c8f-ddfc-4eb7-db47-c7a7128d3c9b"
      },
      "source": [
        "a= np.array ([1,2,3])\n",
        "b= np.array ([3,5,7])\n",
        "\n",
        "print(\"values of A =\", a)\n",
        "print(\"values of B =\", b)\n",
        "\n",
        "m=np.mod(a,b)\n",
        "r=np.remainder(a,b)\n",
        "print(\"\\nvalues of MOD =\", m)\n",
        "print(\"values of REMAINDER =\", r)\n",
        "\n",
        "#Real and Imaginary numbers\n",
        "c=np.array([-5.6j, 0.2j,11, 1+1j])\n",
        "print(\"\\n\",c)\n",
        "\n",
        "#Returns only real part\n",
        "print(\"\\nreal=\",np.real(c))\n",
        "\n",
        "#Returns only imaginary part\n",
        "print(\"imaginary=\",np.imag(c))\n",
        "\n",
        "#Returns the conjugate\n",
        "print(\"Conjugate=\", np.conj(c))"
      ],
      "execution_count": 5,
      "outputs": [
        {
          "output_type": "stream",
          "name": "stdout",
          "text": [
            "values of A = [1 2 3]\n",
            "values of B = [3 5 7]\n",
            "\n",
            "values of MOD = [1 2 3]\n",
            "values of REMAINDER = [1 2 3]\n",
            "\n",
            " [-0.-5.6j  0.+0.2j 11.+0.j   1.+1.j ]\n",
            "\n",
            "real= [-0.  0. 11.  1.]\n",
            "imaginary= [-5.6  0.2  0.   1. ]\n",
            "Conjugate= [-0.+5.6j  0.-0.2j 11.-0.j   1.-1.j ]\n"
          ]
        }
      ]
    },
    {
      "cell_type": "code",
      "metadata": {
        "colab": {
          "base_uri": "https://localhost:8080/"
        },
        "id": "8s49OpUVlVP5",
        "outputId": "f0f44176-a26a-47e4-ee30-752eedca8739"
      },
      "source": [
        "d=np.array ([1.1,-5.32,123,-0.56,25.5,32])\n",
        "print(\"\\n\",d)\n",
        "print(\"\\nafter rounding up\\n\", np.around(d))\n",
        "print(\"\\nafter rounding up to 1st decimal value\\n\", np.around(d,decimals=1))\n",
        "\n",
        "#Floor round off\n",
        "print(\"\\nFloor round off\")\n",
        "print(np.floor(d))\n",
        "\n",
        "#Ceiling round off\n",
        "print(\"\\nCeiling round off\")\n",
        "print(np.ceil(d))"
      ],
      "execution_count": 6,
      "outputs": [
        {
          "output_type": "stream",
          "name": "stdout",
          "text": [
            "\n",
            " [  1.1   -5.32 123.    -0.56  25.5   32.  ]\n",
            "\n",
            "after rounding up\n",
            " [  1.  -5. 123.  -1.  26.  32.]\n",
            "\n",
            "after rounding up to 1st decimal value\n",
            " [  1.1  -5.3 123.   -0.6  25.5  32. ]\n",
            "\n",
            "Floor round off\n",
            "[  1.  -6. 123.  -1.  25.  32.]\n",
            "\n",
            "Ceiling round off\n",
            "[  2.  -5. 123.  -0.  26.  32.]\n"
          ]
        }
      ]
    }
  ]
}