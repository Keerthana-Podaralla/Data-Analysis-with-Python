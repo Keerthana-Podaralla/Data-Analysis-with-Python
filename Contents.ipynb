{
  "nbformat": 4,
  "nbformat_minor": 0,
  "metadata": {
    "colab": {
      "name": "Contents.ipynb",
      "provenance": []
    },
    "kernelspec": {
      "name": "python3",
      "display_name": "Python 3"
    },
    "language_info": {
      "name": "python"
    }
  },
  "cells": [
    {
      "cell_type": "markdown",
      "metadata": {
        "id": "7btzT462mvmO"
      },
      "source": [
        ""
      ]
    },
    {
      "cell_type": "markdown",
      "metadata": {
        "id": "ocCcO1ZEmzK9"
      },
      "source": [
        "Lab-1 : Basics of Python.\n",
        "\n",
        "Lab-2 : String operations, if-else operations and lists\n",
        "\n",
        "Lab-3 : 1) Inventory management system 2) Food delivery 3) Landlord Tenant sharing 4) Phone recharge\n",
        "\n",
        "Lab -4 : Files, Tuples, and Dictionaries in Python\n",
        "\n",
        "Lab -5 : NumPy Basics and arithmetic operations using NumPy"
      ]
    }
  ]
}