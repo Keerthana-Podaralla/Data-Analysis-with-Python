{
  "nbformat": 4,
  "nbformat_minor": 0,
  "metadata": {
    "colab": {
      "name": "Lab4.ipynb",
      "provenance": []
    },
    "kernelspec": {
      "name": "python3",
      "display_name": "Python 3"
    },
    "language_info": {
      "name": "python"
    }
  },
  "cells": [
    {
      "cell_type": "code",
      "metadata": {
        "colab": {
          "base_uri": "https://localhost:8080/"
        },
        "id": "wDM77jaDjLuN",
        "outputId": "54fe8658-0f40-4f3b-def5-d8717936a2be"
      },
      "source": [
        "# Opening, closing, appending, reading, and \n",
        "#displaying the properties of a file\n",
        "\n",
        "# Open file in write mode\n",
        "fo = open(\"dap.txt\", \"w\")\n",
        "\n",
        "# Write to a file\n",
        "fo.write(\"Keerthana\")\n",
        "\n",
        "# Close file\n",
        "fo.close()\n",
        "\n",
        "# Open file in append mode\n",
        "fo = open(\"dap.txt\", \"a\")\n",
        "fo.write(\"Podaralla\")\n",
        "fo.close()\n",
        "\n",
        "# Open and read the file after the appending:\n",
        "fo = open(\"dap.txt\", \"r\")\n",
        "print(fo.read())\n",
        "\n",
        "# Print properties of a file\n",
        "print (\"Name of the file: \", fo.name)\n",
        "print (\"Closed or not : \", fo.closed)\n",
        "print (\"Opening mode : \", fo.mode)\n",
        "\n",
        "fo.close()"
      ],
      "execution_count": 1,
      "outputs": [
        {
          "output_type": "stream",
          "name": "stdout",
          "text": [
            "KeerthanaPodaralla\n",
            "Name of the file:  dap.txt\n",
            "Closed or not :  False\n",
            "Opening mode :  r\n"
          ]
        }
      ]
    },
    {
      "cell_type": "code",
      "metadata": {
        "colab": {
          "base_uri": "https://localhost:8080/"
        },
        "id": "WexI-EjTjcFD",
        "outputId": "3104317e-f86d-4907-c1d7-5206fd1a8341"
      },
      "source": [
        "# Checking current pointer position and\n",
        "# seeking to a new position\n",
        "\n",
        "fo = open(\"dap.txt\", \"r\")\n",
        "str = fo.read(4)\n",
        "print (\"Read String is : \", str)\n",
        "\n",
        "# Check current position\n",
        "position = fo.tell()\n",
        "print (\"Current file position : \", position)\n",
        "\n",
        "# Reposition pointer at the beginning once again\n",
        "position = fo.seek(1, 0);\n",
        "str = fo.read(3)\n",
        "print (\"Again read String is : \", str)\n",
        "\n",
        "fo.close()"
      ],
      "execution_count": 2,
      "outputs": [
        {
          "output_type": "stream",
          "name": "stdout",
          "text": [
            "Read String is :  Keer\n",
            "Current file position :  4\n",
            "Again read String is :  eer\n"
          ]
        }
      ]
    },
    {
      "cell_type": "code",
      "metadata": {
        "colab": {
          "base_uri": "https://localhost:8080/"
        },
        "id": "Y6JiarktjgtC",
        "outputId": "1f3a7dfc-f1d3-4a12-952d-b02f731fc3cb"
      },
      "source": [
        "# os functions such as renaming, removng a file\n",
        "# creating, checking, changing, removing directories\n",
        "\n",
        "import os\n",
        "\n",
        "# Rename a file from dap.txt to test.txt\n",
        "os.rename(\"dap.txt\", \"test.txt\" )\n",
        "\n",
        "# Delete file test.txt\n",
        "os.remove(\"test.txt\")\n",
        "\n",
        "# This would give location of the current directory\n",
        "print(os.getcwd())\n",
        "\n",
        "# Create a directory \"test\"\n",
        "os.mkdir(\"test\")\n",
        "\n",
        "# Changing a directory to \"/home/newdir\"\n",
        "os.chdir(\"/content/test\")\n",
        "\n",
        "# This would  remove \"/tmp/test\"  directory.\n",
        "os.rmdir( \"/content/test\"  )"
      ],
      "execution_count": 3,
      "outputs": [
        {
          "output_type": "stream",
          "name": "stdout",
          "text": [
            "/content\n"
          ]
        }
      ]
    },
    {
      "cell_type": "code",
      "metadata": {
        "colab": {
          "base_uri": "https://localhost:8080/"
        },
        "id": "qEjBk71LjmIK",
        "outputId": "90bf6cb0-5f8d-459c-920e-c522b0ce0f37"
      },
      "source": [
        "# Creating, printing, print with index\n",
        "# and deletion of tuples\n",
        "\n",
        "# Creation of tuple\n",
        "tup1= ('cse','it','mech','ece','electrical')\n",
        "tup2=(1,23,4,5,5,6)\n",
        "\n",
        "# Printing tuple\n",
        "print(tup1)\n",
        "print(tup2)\n",
        "\n",
        "# Printing with index\n",
        "print(tup1[0])\n",
        "print(tup1[2])\n",
        "print(tup1[2:5])\n",
        "\n",
        "# Deletion of tuple\n",
        "del(tup1)\n",
        "del(tup2)"
      ],
      "execution_count": 4,
      "outputs": [
        {
          "output_type": "stream",
          "name": "stdout",
          "text": [
            "('cse', 'it', 'mech', 'ece', 'electrical')\n",
            "(1, 23, 4, 5, 5, 6)\n",
            "cse\n",
            "mech\n",
            "('mech', 'ece', 'electrical')\n"
          ]
        }
      ]
    },
    {
      "cell_type": "code",
      "metadata": {
        "colab": {
          "base_uri": "https://localhost:8080/"
        },
        "id": "IoO4VM8gjqhy",
        "outputId": "bdbec08f-545b-4d0c-b130-75d3deeaf028"
      },
      "source": [
        "# Concatenation, finding length, and max element\n",
        "\n",
        "tup1= ('cse','it','mech','ece','electrical')\n",
        "print(tup1)\n",
        "tup2= ('keeru','sai','rakshi')\n",
        "print(tup2)\n",
        "\n",
        "# Concatenation\n",
        "tup3=tup1+tup2\n",
        "print(tup3)\n",
        "\n",
        "# Finding length\n",
        "print(\"Length of first tuple is \",len(tup1))\n",
        "print(\"Length of second tuple is \",len(tup2))\n",
        "\n",
        "#Finding max element\n",
        "print(\"Max element in first tuple is\",max(tup1))"
      ],
      "execution_count": 5,
      "outputs": [
        {
          "output_type": "stream",
          "name": "stdout",
          "text": [
            "('cse', 'it', 'mech', 'ece', 'electrical')\n",
            "('keeru', 'sai', 'rakshi')\n",
            "('cse', 'it', 'mech', 'ece', 'electrical', 'keeru', 'sai', 'rakshi')\n",
            "Length of first tuple is  5\n",
            "Length of second tuple is  3\n",
            "Max element in first tuple is mech\n"
          ]
        }
      ]
    },
    {
      "cell_type": "code",
      "metadata": {
        "colab": {
          "base_uri": "https://localhost:8080/"
        },
        "id": "b4AE7krhjzdj",
        "outputId": "1aa26e72-7b94-4fb5-8239-350bbd38254a"
      },
      "source": [
        "# Creating, printing, updation, appending\n",
        "# Deleting a key, clearing/deleting the dictionary\n",
        "\n",
        "# Creation of a dictionary\n",
        "dict={'name':'Keerthana','designation':'student','course':'DAP','univ':'cmr'}\n",
        "\n",
        "# Printing of dictionary elements\n",
        "print(dict['name'])\n",
        "print(dict['course'])\n",
        "print(dict)\n",
        "\n",
        "# Updating a value\n",
        "dict['name']='Podaralla'\n",
        "print(\"After updating name-\",dict['name'])\n",
        "\n",
        "# Appending a value\n",
        "dict['class']='cse7th sem'\n",
        "print(\"After appending class-\",dict['class'])\n",
        "\n",
        "# Deleting a key\n",
        "del dict['designation']\n",
        "print(\"After removing designation-\",dict)\n",
        "\n",
        "# Clearing the dictionary\n",
        "dict.clear()\n",
        "print(\"After clearing dictionary-\",dict)\n",
        "\n",
        "# Deleting the dictionary\n",
        "del dict"
      ],
      "execution_count": 6,
      "outputs": [
        {
          "output_type": "stream",
          "name": "stdout",
          "text": [
            "Keerthana\n",
            "DAP\n",
            "{'name': 'Keerthana', 'designation': 'student', 'course': 'DAP', 'univ': 'cmr'}\n",
            "After updating name- Podaralla\n",
            "After appending class- cse7th sem\n",
            "After removing designation- {'name': 'Podaralla', 'course': 'DAP', 'univ': 'cmr', 'class': 'cse7th sem'}\n",
            "After clearing dictionary- {}\n"
          ]
        }
      ]
    },
    {
      "cell_type": "code",
      "metadata": {
        "colab": {
          "base_uri": "https://localhost:8080/"
        },
        "id": "d_fLSWVmkB7G",
        "outputId": "338545d8-cab5-4b02-c492-2ce5576fd28a"
      },
      "source": [
        "\n",
        "# Printing properties of dictionaries\n",
        "\n",
        "dict={'name':'keeru','designation':'student','course':'DAP','univ':'cmr', 'name':'podaralla'}\n",
        "\n",
        "# In case same key is given 2 values, latest will be considered\n",
        "print(dict['name'])\n",
        "\n",
        "# Length of dictionary\n",
        "print(len(dict))\n",
        "\n",
        "# Returns only the values\n",
        "print(dict.values())\n",
        "\n",
        "# Returns only the keys\n",
        "print(dict.keys())\n",
        "\n",
        "# Returns respective key-value pairs\n",
        "print(dict.items())"
      ],
      "execution_count": 7,
      "outputs": [
        {
          "output_type": "stream",
          "name": "stdout",
          "text": [
            "podaralla\n",
            "4\n",
            "dict_values(['podaralla', 'student', 'DAP', 'cmr'])\n",
            "dict_keys(['name', 'designation', 'course', 'univ'])\n",
            "dict_items([('name', 'podaralla'), ('designation', 'student'), ('course', 'DAP'), ('univ', 'cmr')])\n"
          ]
        }
      ]
    },
    {
      "cell_type": "code",
      "metadata": {
        "colab": {
          "base_uri": "https://localhost:8080/"
        },
        "id": "LIGC0yFqkKIH",
        "outputId": "4865b69b-b60f-46dd-d9d3-920dfc5f77ba"
      },
      "source": [
        "# get(), copy(), and update() methods\n",
        "\n",
        "dict={'name':'keerthana','designation':'student','course':'DAP','univ':'cmr', 'name':'podaralla'}\n",
        "\n",
        "print(dict.get('name'))\n",
        "print(dict.get('edu'))\n",
        "print(dict.get('edu',\"nothing\"))\n",
        "\n",
        "# copy() method is used to copy a dictionary\n",
        "dict1=dict.copy()\n",
        "print(dict1)\n",
        "\n",
        "# update() method appends to a dictionary\n",
        "dict2={'semester':'7sem'}\n",
        "dict.update(dict2)\n",
        "print(dict)"
      ],
      "execution_count": 8,
      "outputs": [
        {
          "output_type": "stream",
          "name": "stdout",
          "text": [
            "podaralla\n",
            "None\n",
            "nothing\n",
            "{'name': 'podaralla', 'designation': 'student', 'course': 'DAP', 'univ': 'cmr'}\n",
            "{'name': 'podaralla', 'designation': 'student', 'course': 'DAP', 'univ': 'cmr', 'semester': '7sem'}\n"
          ]
        }
      ]
    }
  ]
}