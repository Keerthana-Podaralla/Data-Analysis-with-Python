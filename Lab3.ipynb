{
  "nbformat": 4,
  "nbformat_minor": 0,
  "metadata": {
    "colab": {
      "name": "Lab3.ipynb",
      "provenance": []
    },
    "kernelspec": {
      "name": "python3",
      "display_name": "Python 3"
    },
    "language_info": {
      "name": "python"
    }
  },
  "cells": [
    {
      "cell_type": "code",
      "metadata": {
        "colab": {
          "base_uri": "https://localhost:8080/"
        },
        "id": "TNr7fsKDiEZO",
        "outputId": "ef80faff-4527-40e4-da1d-179fa1a31052"
      },
      "source": [
        "def show():\n",
        "  s = [[str(e) for e in row] for row in h]\n",
        "  lens = [max(map(len, col)) for col in zip(*s)]\n",
        "  fmt = '\\t'.join('{{:{}}}'.format(x) for x in lens)\n",
        "  table = [fmt.format(*row) for row in s]\n",
        "  print('\\n'.join(table))\n",
        "  \n",
        "def checkInven():\n",
        "  for i in range(1,len(h)):\n",
        "    if(h[i][2]<=5):\n",
        "      print(\"\\nStock replinished\")\n",
        "      h[i][2]=20\n",
        "\n",
        "h=[['Name','Price','Quantity', 'Manufacturer'],['Laptop',50000,15,'HP'],['Earphones',2000,20,'Oneplus'],['Monitor',6500,10,'Zotac'],['MS Office 2021',1000,30,'Microsoft']]\n",
        "n='a'\n",
        "cost=0\n",
        "while(n!='e'):\n",
        "  checkInven()\n",
        "  print(\"\\nStock is\\n\")\n",
        "  show()\n",
        "  n=input(\"\\np : Buy\\nc : Stock\\ne : exit\\n\")\n",
        "  if(n=='p'):\n",
        "    a=int(input(\"Select an Option (1=Laptop, 2=earphone..) \"))\n",
        "    if(a>4):\n",
        "      print(\"Oh no! Seems like you chose wrong option. Try again.\")\n",
        "      continue\n",
        "    count=int(input(\"How many units do you want us to serve you with? \"))\n",
        "    if(h[a][2]<count):\n",
        "      print(\"Sorry.. we're running out of stocks!!\")\n",
        "    else:\n",
        "      h[a][2]-=count\n",
        "      print(\"Thankyou for Shopping\")\n",
        "      cost+=h[a][1]*count\n",
        "  elif(n=='c'):\n",
        "    b=int(input(\"Select an option (1=Laptop, 2=earphone..) \"))\n",
        "    if(b>4):\n",
        "      print(\"Incorrect option. Try again.\")\n",
        "      continue\n",
        "    print(\"Stock Left is \",h[b][2])\n",
        "  elif(n=='e'):\n",
        "    pass\n",
        "  else:\n",
        "    print(\"Oh no! Seems like you chose wrong option. Try again.\")\n",
        "print(\"\\nYour total bill is \",cost,\"\\nThank you,Visit us Again.\")"
      ],
      "execution_count": 1,
      "outputs": [
        {
          "output_type": "stream",
          "name": "stdout",
          "text": [
            "\n",
            "Stock is\n",
            "\n",
            "Name          \tPrice\tQuantity\tManufacturer\n",
            "Laptop        \t50000\t15      \tHP          \n",
            "Earphones     \t2000 \t20      \tOneplus     \n",
            "Monitor       \t6500 \t10      \tZotac       \n",
            "MS Office 2021\t1000 \t30      \tMicrosoft   \n",
            "\n",
            "p : Buy\n",
            "c : Stock\n",
            "e : exit\n",
            "p\n",
            "Select an Option (1=Laptop, 2=earphone..) 1\n",
            "How many units do you want us to serve you with? 10\n",
            "Thankyou for Shopping\n",
            "\n",
            "Stock replinished\n",
            "\n",
            "Stock is\n",
            "\n",
            "Name          \tPrice\tQuantity\tManufacturer\n",
            "Laptop        \t50000\t20      \tHP          \n",
            "Earphones     \t2000 \t20      \tOneplus     \n",
            "Monitor       \t6500 \t10      \tZotac       \n",
            "MS Office 2021\t1000 \t30      \tMicrosoft   \n",
            "\n",
            "p : Buy\n",
            "c : Stock\n",
            "e : exit\n",
            "e\n",
            "\n",
            "Your total bill is  500000 \n",
            "Thank you,Visit us Again.\n"
          ]
        }
      ]
    },
    {
      "cell_type": "code",
      "metadata": {
        "colab": {
          "base_uri": "https://localhost:8080/"
        },
        "id": "C3i11dMIiPIf",
        "outputId": "576dd943-f7c0-4635-eb9d-155a62672bd3"
      },
      "source": [
        "deli=['Udupi grand','Swiggy','Metro Dine']\n",
        "foo=['Burger','Chicken Tikka','Hyderabadi Biryani']\n",
        "pri=[120,100,200]\n",
        "repeat='y'\n",
        "while(repeat!='n'):\n",
        "  user=int(input(\"1. Zomato\\n2. Swiggy\\n3. Metro Dine\\nEnter your preferred delivery partner \"))\n",
        "  choice=int(input(\"\\n1. Burger : 100/-\\n2. Chicken Tikka : 140/-\\n3. Hyderabadi Biryani : 200/-\\nEnter your choice \"))\n",
        "  loc=input(\"\\nEnter your address \")\n",
        "  print(\"\\nYour order for\",foo[choice-1],\"has been placed on\",deli[user-1],\"and will get delivered\",loc,\"\\nYour Bill for the order is \",pri[choice-1])\n",
        "  repeat=input(\"Do you wish to order again? (y/n)\\n\")"
      ],
      "execution_count": 3,
      "outputs": [
        {
          "name": "stdout",
          "output_type": "stream",
          "text": [
            "1. Zomato\n",
            "2. Swiggy\n",
            "3. Metro Dine\n",
            "Enter your preferred delivery partner 1\n",
            "\n",
            "1. Burger : 100/-\n",
            "2. Chicken Tikka : 140/-\n",
            "3. Hyderabadi Biryani : 200/-\n",
            "Enter your choice 2\n",
            "\n",
            "Enter your address xyz\n",
            "\n",
            "Your order for Chicken Tikka has been placed on Udupi grand and will get delivered xyz \n",
            "Your Bill for the order is  100\n",
            "Do you wish to order again? (y/n)\n",
            "n\n"
          ]
        }
      ]
    },
    {
      "cell_type": "code",
      "metadata": {
        "colab": {
          "base_uri": "https://localhost:8080/"
        },
        "id": "B3boY-WGiche",
        "outputId": "6bae289f-d7c1-4c22-e00d-f7497ea39246"
      },
      "source": [
        "utilities=input(\"Enter all bills to be shared separated with a comma\\n\")\n",
        "l1=utilities.split(\",\")\n",
        "l2=[]\n",
        "sum=0\n",
        "n=int(input(\"Enter no. of tenants \"))\n",
        "n+=1\n",
        "for i in range(len(l1)):\n",
        "  print(\"Enter total amount for\",l1[i],\"bill \")\n",
        "  l2.append(float(input()))\n",
        "for i in range(len(l1)):\n",
        "  sum+=round(l2[i]/n,2)\n",
        "  print(\"The\",l1[i],\"bill is split as\",round(l2[i]/n,2),\"per head\")\n",
        "print(\"\\nThe total per head is\",sum)"
      ],
      "execution_count": 4,
      "outputs": [
        {
          "output_type": "stream",
          "name": "stdout",
          "text": [
            "Enter all bills to be shared separated with a comma\n",
            "1\n",
            "Enter no. of tenants 2\n",
            "Enter total amount for 1 bill \n",
            "3\n",
            "The 1 bill is split as 1.0 per head\n",
            "\n",
            "The total per head is 1.0\n"
          ]
        }
      ]
    },
    {
      "cell_type": "code",
      "metadata": {
        "colab": {
          "base_uri": "https://localhost:8080/"
        },
        "id": "0V4EazESinCQ",
        "outputId": "7750dd68-2ae7-495f-d6cb-3c19e1531af2"
      },
      "source": [
        "ch=str(input(\"\\\"Do you want to recharge?\\n Y-Yes and any key-No\"))\n",
        "if ch=='Y' or ch=='y':\n",
        "  opt=int(input(\"Press 1 for prepaid and any key for postpaid\"))\n",
        "  if opt==1:\n",
        "    no=int(input(\"Enter mobile no\"))\n",
        "    operator=int(input(\"Choose your operator\\n1. Jio \\n2. Airtel\\n3.Vi\"))\n",
        "    amt=int(input(\"Choose a recharge amt\\n399 : 1.5 GB data/day for 84 days\\n 299 : 1 GB data/day for 56 days\\n 199 : 1 GB data/day for 30 days\"))\n",
        "    confirm=int(input(\"Press 1 to confirm and any key to cancel\"))\n",
        "    if confirm==1:\n",
        "      print(\"Your recharge for no {} for amt {} has been succesfull!\".format(no,amt))"
      ],
      "execution_count": 5,
      "outputs": [
        {
          "output_type": "stream",
          "name": "stdout",
          "text": [
            "\"Do you want to recharge?\n",
            " Y-Yes and any key-NoY\n",
            "Press 1 for prepaid and any key for postpaid1\n",
            "Enter mobile no5678\n",
            "Choose your operator\n",
            "1. Jio \n",
            "2. Airtel\n",
            "3.Vi2\n",
            "Choose a recharge amt\n",
            "399 : 1.5 GB data/day for 84 days\n",
            " 299 : 1 GB data/day for 56 days\n",
            " 199 : 1 GB data/day for 30 days299\n",
            "Press 1 to confirm and any key to cancel1\n",
            "Your recharge for no 5678 for amt 299 has been succesfull!\n"
          ]
        }
      ]
    }
  ]
}