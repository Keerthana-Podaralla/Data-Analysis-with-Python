{
  "nbformat": 4,
  "nbformat_minor": 0,
  "metadata": {
    "colab": {
      "name": "Lab1.ipynb",
      "provenance": []
    },
    "kernelspec": {
      "name": "python3",
      "display_name": "Python 3"
    },
    "language_info": {
      "name": "python"
    }
  },
  "cells": [
    {
      "cell_type": "code",
      "metadata": {
        "colab": {
          "base_uri": "https://localhost:8080/"
        },
        "id": "OcqiLgsid2RY",
        "outputId": "260633f0-7442-4c10-f6af-eebb867a16d2"
      },
      "source": [
        "a=20\n",
        "print(a)"
      ],
      "execution_count": null,
      "outputs": [
        {
          "output_type": "stream",
          "name": "stdout",
          "text": [
            "20\n"
          ]
        }
      ]
    },
    {
      "cell_type": "code",
      "metadata": {
        "colab": {
          "base_uri": "https://localhost:8080/"
        },
        "id": "G67cM6hBeGip",
        "outputId": "cc457903-168a-4e4d-bd8c-dc82906cf6de"
      },
      "source": [
        "name=\"Keerthana\"\n",
        "print(name)"
      ],
      "execution_count": null,
      "outputs": [
        {
          "output_type": "stream",
          "name": "stdout",
          "text": [
            "Keerthana\n"
          ]
        }
      ]
    },
    {
      "cell_type": "code",
      "metadata": {
        "colab": {
          "base_uri": "https://localhost:8080/"
        },
        "id": "NtMKDJmleOH2",
        "outputId": "fa6d04ae-20ec-4b8a-d6b4-f11898a59f30"
      },
      "source": [
        "username = input(\"Enter your name \")\n",
        "print(\"Welcome\",name)"
      ],
      "execution_count": null,
      "outputs": [
        {
          "output_type": "stream",
          "name": "stdout",
          "text": [
            "Enter your name Keerthana\n",
            "Welcome Keerthana\n"
          ]
        }
      ]
    },
    {
      "cell_type": "code",
      "metadata": {
        "colab": {
          "base_uri": "https://localhost:8080/"
        },
        "id": "xgW1wv1oeVMM",
        "outputId": "5d71cf41-1581-48ea-d8a4-29ee07fadbb8"
      },
      "source": [
        "a=20\n",
        "b='Keerthana'\n",
        "print(\"a is of type\",type(a),\"\\nb is of type\",type(b))\n",
        "print(len(b))"
      ],
      "execution_count": null,
      "outputs": [
        {
          "output_type": "stream",
          "name": "stdout",
          "text": [
            "a is of type <class 'int'> \n",
            "b is of type <class 'str'>\n",
            "9\n"
          ]
        }
      ]
    },
    {
      "cell_type": "code",
      "metadata": {
        "colab": {
          "base_uri": "https://localhost:8080/"
        },
        "id": "8D6JLVVzecVi",
        "outputId": "35886efe-2d14-4ad2-cc93-fbe4f912991d"
      },
      "source": [
        "a=22\n",
        "print(bool(a))"
      ],
      "execution_count": null,
      "outputs": [
        {
          "output_type": "stream",
          "name": "stdout",
          "text": [
            "True\n"
          ]
        }
      ]
    },
    {
      "cell_type": "code",
      "metadata": {
        "colab": {
          "base_uri": "https://localhost:8080/"
        },
        "id": "8QAELwOGei7q",
        "outputId": "85773559-a454-4043-cb21-7feaa04bb23d"
      },
      "source": [
        "a=28\n",
        "b=70\n",
        "c=a/b\n",
        "d=a%b\n",
        "print(c,d)"
      ],
      "execution_count": null,
      "outputs": [
        {
          "output_type": "stream",
          "name": "stdout",
          "text": [
            "0.4 28\n"
          ]
        }
      ]
    },
    {
      "cell_type": "code",
      "metadata": {
        "colab": {
          "base_uri": "https://localhost:8080/"
        },
        "id": "UdzEFEo7eoIa",
        "outputId": "24eadf19-2f40-4f75-e968-327a536d843f"
      },
      "source": [
        "string=\"IJKLMNOPQR\"\n",
        "print(len(string),string[0],string[len(string)-1])"
      ],
      "execution_count": null,
      "outputs": [
        {
          "output_type": "stream",
          "name": "stdout",
          "text": [
            "10 I R\n"
          ]
        }
      ]
    },
    {
      "cell_type": "code",
      "metadata": {
        "colab": {
          "base_uri": "https://localhost:8080/"
        },
        "id": "hiA-6Gk0fDED",
        "outputId": "147130e2-6398-4548-9218-f7d0fe8cc0ae"
      },
      "source": [
        "print(\"Quick Functions.\")\n",
        "while True :\n",
        "    var=int(input(\"\\nChoose your option from the list given below:\\n1. Basic Calculations\\n2. ASCII Calculations\\n3. String\\n4. Basic Print Statement\\n5. Datatypes\\n6. Exit\\n\"))\n",
        "    if(var==1):\n",
        "        calc1=int(input(\"\\nWelcome to Basic Calculator. Choose your option from the list given below\\n1. Add\\n2. Subtract\\n3. Multiply\\n4. Divide\\n5. Modulo\\n\"))\n",
        "        a=int(input(\"Enter first number \"))\n",
        "        b=int(input(\"Enter second number \"))\n",
        "        if(calc1==1):\n",
        "            print(\"Sum of the given numbers is \",a+b)\n",
        "        elif(calc1==2):\n",
        "            print(\"Difference of the given numbers is \",a-b)\n",
        "        elif(calc1==3):\n",
        "            print(\"Product of the given numbers is \",a*b)\n",
        "        elif(calc1==4):\n",
        "            print(\"Quotient of the given numbers is \",a/b)\n",
        "        elif(calc1==5):\n",
        "            print(\"Remainder of the given numbers is \",a%b)\n",
        "        else:\n",
        "            print(\"Incorrect choice.\")\n",
        "    elif(var==2):\n",
        "        calc2=int(input(\"Welcome to ASCII Calculator. Choose your option from the list given below\\n1. Character to ASCII\\n2. ASCII to Character\\n\"))\n",
        "        if(calc2==1):\n",
        "            c=input(\"Input Character \")\n",
        "            print(ord(c))\n",
        "        elif(calc2==2):\n",
        "            d=int(input(\"Input Integer \"))\n",
        "            print(chr(d))\n",
        "        else:\n",
        "            print(\"Incorrect option.\")\n",
        "    elif(var==3):\n",
        "        string=input(\"Enter a string \")\n",
        "        print(\"The length of the string is\",len(string),\"\\nThe first character is\",string[0],\"\\nThe last character is\",string[len(string)-1])\n",
        "    elif(var==4):\n",
        "        name=input(\"Input your name \")\n",
        "        print(\"Your name is \",name)\n",
        "    elif(var==5):\n",
        "        data1=\"String\"\n",
        "        data2=10\n",
        "        data3=14.5\n",
        "        print(\"The type of String is\",type(data1),\"\\nThe type of Integer is\",type(data2),\"\\nThe type of Float is\",type(data3))\n",
        "    elif(var==6):\n",
        "        print(\"Bye\")\n",
        "        break\n",
        "    else:\n",
        "        print(\"Incorrect choice.\")"
      ],
      "execution_count": null,
      "outputs": [
        {
          "output_type": "stream",
          "name": "stdout",
          "text": [
            "Quick Functions.\n",
            "\n",
            "Choose your option from the list given below:\n",
            "1. Basic Calculations\n",
            "2. ASCII Calculations\n",
            "3. String\n",
            "4. Basic Print Statement\n",
            "5. Datatypes\n",
            "6. Exit\n",
            "1\n",
            "\n",
            "Welcome to Basic Calculator. Choose your option from the list given below\n",
            "1. Add\n",
            "2. Subtract\n",
            "3. Multiply\n",
            "4. Divide\n",
            "5. Modulo\n",
            "1\n",
            "Enter first number 234\n",
            "Enter second number 567\n",
            "Sum of the given numbers is  801\n",
            "\n",
            "Choose your option from the list given below:\n",
            "1. Basic Calculations\n",
            "2. ASCII Calculations\n",
            "3. String\n",
            "4. Basic Print Statement\n",
            "5. Datatypes\n",
            "6. Exit\n",
            "6\n",
            "Bye\n"
          ]
        }
      ]
    }
  ]
}