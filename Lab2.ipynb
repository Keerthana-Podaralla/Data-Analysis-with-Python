{
  "nbformat": 4,
  "nbformat_minor": 0,
  "metadata": {
    "colab": {
      "name": "Lab2.ipynb",
      "provenance": []
    },
    "kernelspec": {
      "name": "python3",
      "display_name": "Python 3"
    },
    "language_info": {
      "name": "python"
    }
  },
  "cells": [
    {
      "cell_type": "code",
      "metadata": {
        "colab": {
          "base_uri": "https://localhost:8080/"
        },
        "id": "_N-XllbTgCuV",
        "outputId": "7fe553c6-102b-4bc0-d43c-ca24bc95dadb"
      },
      "source": [
        "#To print “hello world”, string concatenation, and access strings using index\n",
        "var1 = 'Hello World!'\n",
        "var2 = \"Python Programming\"\n",
        "\n",
        "#Printing String\n",
        "print(var1,\" \",var2)\n",
        "\n",
        "#Accessing string using index\n",
        "print (var1[0])\n",
        "print (var2[1:5])\n",
        "\n",
        "#String Concatenation\n",
        "print (\"Updated String :- \", var1[0:6] + 'Keerthana Podaralla')"
      ],
      "execution_count": null,
      "outputs": [
        {
          "output_type": "stream",
          "name": "stdout",
          "text": [
            "Hello World!   Python Programming\n",
            "H\n",
            "ytho\n",
            "Updated String :-  Hello Keerthana Podaralla\n"
          ]
        }
      ]
    },
    {
      "cell_type": "code",
      "metadata": {
        "colab": {
          "base_uri": "https://localhost:8080/"
        },
        "id": "WUvV8Et-ge3v",
        "outputId": "b29e79ac-695d-4cc9-b6f0-bdd3c8e1b31d"
      },
      "source": [
        "#To take user input of string and print it\n",
        "str1 = input(\"Please Enter Your Own String : \")\n",
        "\n",
        "#Printing user input\n",
        "print(str1)"
      ],
      "execution_count": null,
      "outputs": [
        {
          "output_type": "stream",
          "name": "stdout",
          "text": [
            "Please Enter Your Own String : Keerthana \n",
            "Keerthana \n"
          ]
        }
      ]
    },
    {
      "cell_type": "code",
      "metadata": {
        "colab": {
          "base_uri": "https://localhost:8080/"
        },
        "id": "d9Xsq35jgjJg",
        "outputId": "8892e630-6e54-4fe2-9fde-d30fcfc4fde2"
      },
      "source": [
        "#String operations using functions such as capitalize(), center(), count(), find()\n",
        "str2 = \"this is string example....wow!!!\"\n",
        "\n",
        "#capitalize() method returns a copy of the string with only its first character capitalized.\n",
        "print (\"str2.capitalize() : \", str2.capitalize())\n",
        "\n",
        "#center() returns centered in a string of length width. Padding is done using the specified fillchar.\n",
        "#Default filler is a space.\n",
        "print (\"str2.center(40, 'a') : \", str2.center(40, '*'))\n",
        "\n",
        "#count() returns the number of occurrences of substring sub in the range [start, end].\n",
        "sub = \"i\";\n",
        "print (\"str2.count(sub, 4, 40) : \", str2.count(sub, 4, 40))\n",
        "\n",
        "#find() determines if string str occurs in string, or in a substring of string if starting \n",
        "#index beg and ending index end are given.\n",
        "str3 = \"is\";\n",
        "print (str2.find(str3))"
      ],
      "execution_count": null,
      "outputs": [
        {
          "output_type": "stream",
          "name": "stdout",
          "text": [
            "str2.capitalize() :  This is string example....wow!!!\n",
            "str2.center(40, 'a') :  ****this is string example....wow!!!****\n",
            "str2.count(sub, 4, 40) :  2\n",
            "2\n"
          ]
        }
      ]
    },
    {
      "cell_type": "code",
      "metadata": {
        "colab": {
          "base_uri": "https://localhost:8080/"
        },
        "id": "hWpEyVGbgp2y",
        "outputId": "50f06cd2-e5c0-498e-efee-6ac2820bab6d"
      },
      "source": [
        "#More functions such as index(), isalnum(), isdigit(), isalpha(), islower(), isnumeric()\n",
        "#isspace(), istitle(), isupper(), join(), len()\n",
        "\n",
        "#index() determines if string str occurs in string or in a substring of string if starting\n",
        "#index beg and ending index end are given.\n",
        "str1 = \"this is string example....wow!!!\"\n",
        "str2 = \"exam\"\n",
        "print (str1.index(str2, 10,32))\n",
        "\n",
        "#isalnum() checks whether the string consists of alphanumeric characters.\n",
        "str = \"this2009\";  # No space in this string\n",
        "print (str.isalnum())\n",
        "\n",
        "#isalpha() checks whether the string consists of only alphabets.\n",
        "str = \"ShabnamSharma\";  # No space & digit in this string\n",
        "print (str.isalpha())\n",
        "\n",
        "#isdigit() checks whether the string consists of only digits.\n",
        "str = \"123456\";  # Only digit in this string\n",
        "print (str.isdigit())\n",
        "\n",
        "#islower() returns true if all characters are lowercase, else returns false\n",
        "str = \"this is string example....wow!!!\";\n",
        "print (str.islower())\n",
        "\n",
        "#isnumeric() returns true if all characters are numbers, else returns false\n",
        "str = \"23443434\";\n",
        "print (str.isnumeric())\n",
        "\n",
        "#isspace() returns true if all characters are whitespaces, else returns false\n",
        "str = \"  \"; \n",
        "print (str.isspace())\n",
        "\n",
        "#istitle() returns true if all words start with uppercase character, else returns false\n",
        "str = \"This Is String Example...Wow!!!\";\n",
        "print (str.istitle())\n",
        "\n",
        "#isupper() returns true if all characters are uppercase, else returns false\n",
        "str = \"THIS IS STRING EXAMPLE....WOW!!!\"; \n",
        "print (str.isupper())\n",
        "\n",
        "#join() returns a string in which the string elements of sequence are joined by str separator.\n",
        "s = \"  *  *  \";\n",
        "seq = (\"abcdef\", \"btrtst\", \"lelele\"); # This is sequence of strings.\n",
        "print (s.join(seq))\n",
        "\n",
        "#len() returns length of the given string\n",
        "str = \"this is string example....wow!!!\";\n",
        "print (\"Length of the string: \", len(str))"
      ],
      "execution_count": null,
      "outputs": [
        {
          "output_type": "stream",
          "name": "stdout",
          "text": [
            "15\n",
            "True\n",
            "True\n",
            "True\n",
            "True\n",
            "True\n",
            "True\n",
            "True\n",
            "True\n",
            "abcdef  *  *  btrtst  *  *  lelele\n",
            "Length of the string:  32\n"
          ]
        }
      ]
    },
    {
      "cell_type": "code",
      "metadata": {
        "colab": {
          "base_uri": "https://localhost:8080/"
        },
        "id": "Z5SNdk2Tg5Ox",
        "outputId": "766f4147-a173-4803-e8aa-f2e2e137c584"
      },
      "source": [
        "#Even more functions such as lstrip(), lower(), upper(), max(), min(), replace(),\n",
        "#swapcase(), startswith()\n",
        "\n",
        "#lstrip() returns a copy of the string in which all chars have been stripped from \n",
        "#the beginning of the string (default whitespace characters)\n",
        "str = \"     this is string example....wow!!!     \"\n",
        "print (str.lstrip())\n",
        "str = \"88888888this is string example....wow!!!999999\";\n",
        "print (str.lstrip('8'))\n",
        "print (str.rstrip('9'))\n",
        "\n",
        "#lower() returns copt of string with all lowercase characters\n",
        "str = \"THIS IS STRING EXAMPLE....WOW!!!\"\n",
        "print (str.lower())\n",
        "\n",
        "#upper() returns copt of string with all uppercase characters\n",
        "str = \"this is string example....wow!!!\"\n",
        "print (str.upper())\n",
        "\n",
        "#max() returns largest character\n",
        "str = \"check....wow!!!\"\n",
        "print (\"Max character: \" + max(str))\n",
        "\n",
        "#min() returns smallest character\n",
        "str = \"example\"\n",
        "print (\"Min character: \" + min(str))\n",
        "\n",
        "#replace() finds and replaces a string with the given input\n",
        "#Syntax is str.replace(old, new[, max])\n",
        "str = \"this is string example....wow!!! this is really string\"\n",
        "print (str.replace(\"is\", \"was\", 3))\n",
        "\n",
        "#swapcase() swaps string from uppercase to lowercase and vice versa\n",
        "str = \"this is string example....wow!!!\";\n",
        "print (str.swapcase())\n",
        "\n",
        "#startswith() returns true if string starts with given input\n",
        "str = \"this is string example....wow!!!\";\n",
        "print (str.startswith( 'is', 2, 4 ))"
      ],
      "execution_count": null,
      "outputs": [
        {
          "output_type": "stream",
          "name": "stdout",
          "text": [
            "this is string example....wow!!!     \n",
            "this is string example....wow!!!999999\n",
            "88888888this is string example....wow!!!\n",
            "this is string example....wow!!!\n",
            "THIS IS STRING EXAMPLE....WOW!!!\n",
            "Max character: w\n",
            "Min character: a\n",
            "thwas was string example....wow!!! thwas is really string\n",
            "THIS IS STRING EXAMPLE....WOW!!!\n",
            "True\n"
          ]
        }
      ]
    },
    {
      "cell_type": "code",
      "metadata": {
        "colab": {
          "base_uri": "https://localhost:8080/"
        },
        "id": "XNIoswjthB6y",
        "outputId": "94a09b14-9956-43f9-b1fa-c52baea7bbb4"
      },
      "source": [
        "#Check whether number is odd or even\n",
        "num = int(input(\"Enter a number: \"))  \n",
        "if num%2 == 0:  \n",
        "  print(\"Number is even\")\n",
        "else:\n",
        "  print(\"Number is odd\")"
      ],
      "execution_count": null,
      "outputs": [
        {
          "output_type": "stream",
          "name": "stdout",
          "text": [
            "Enter a number: 10\n",
            "Number is even\n"
          ]
        }
      ]
    },
    {
      "cell_type": "code",
      "metadata": {
        "colab": {
          "base_uri": "https://localhost:8080/"
        },
        "id": "ETwyuvf8hFNa",
        "outputId": "4cc8554d-c722-4c22-e783-4e6dd35c66db"
      },
      "source": [
        "#Program to find largest of 3 numbers\n",
        "a = int(input(\"Enter a: \"))\n",
        "b = int(input(\"Enter b: \"))\n",
        "c = int(input(\"Enter c: \"))\n",
        "if a>b and a>c:\n",
        "  print(\"a is largest\")\n",
        "elif b>c:\n",
        "  print(\"b is largest\")\n",
        "else:\n",
        "  print(\"c is largest\")"
      ],
      "execution_count": null,
      "outputs": [
        {
          "output_type": "stream",
          "name": "stdout",
          "text": [
            "Enter a: 3\n",
            "Enter b: 4\n",
            "Enter c: 5\n",
            "c is largest\n"
          ]
        }
      ]
    },
    {
      "cell_type": "code",
      "metadata": {
        "colab": {
          "base_uri": "https://localhost:8080/"
        },
        "id": "3Zh9UHAxhP4E",
        "outputId": "f14e2f2c-64a4-4baa-fb4c-2d29e10da127"
      },
      "source": [
        "#Program to check eligibility for voting\n",
        "age = int (input(\"Enter your age? \"))\n",
        "if age>=18:\n",
        "  print(\"You are eligible to vote !!\")\n",
        "else:\n",
        "  print(\"Sorry! you have to wait !!\")"
      ],
      "execution_count": null,
      "outputs": [
        {
          "output_type": "stream",
          "name": "stdout",
          "text": [
            "Enter your age? 20\n",
            "You are eligible to vote !!\n"
          ]
        }
      ]
    },
    {
      "cell_type": "code",
      "metadata": {
        "colab": {
          "base_uri": "https://localhost:8080/"
        },
        "id": "sAq9gdAmhVPk",
        "outputId": "d0563eb9-8cc8-4414-d2d0-a2185404b486"
      },
      "source": [
        "#Program to find grade of the student\n",
        "marks = int(input(\"Enter the marks? \"))  \n",
        "if marks > 85 and marks <= 100:  \n",
        "   print(\"Congrats ! you scored grade A ...\")  \n",
        "elif marks > 60 and marks <= 85:  \n",
        "  print(\"You scored grade B + ...\")  \n",
        "elif marks > 40 and marks <= 60:  \n",
        "  print(\"You scored grade B ...\")  \n",
        "elif (marks > 30 and marks <= 40):  \n",
        "  print(\"You scored grade C ...\")  \n",
        "else:  \n",
        "  print(\"Sorry you have failed\")"
      ],
      "execution_count": null,
      "outputs": [
        {
          "output_type": "stream",
          "name": "stdout",
          "text": [
            "Enter the marks? 67\n",
            "You scored grade B + ...\n"
          ]
        }
      ]
    },
    {
      "cell_type": "code",
      "metadata": {
        "colab": {
          "base_uri": "https://localhost:8080/"
        },
        "id": "tpiJKCWBhaZu",
        "outputId": "1e9c71bf-a384-4e98-aa34-4a7645e49b48"
      },
      "source": [
        "#Printing lists using their index\n",
        "list1 = ['physics', 'chemistry', 2001, 2000]\n",
        "list2 = [1, 2, 3, 4, 5, 6, 7 ]\n",
        "print (\"list1[0]: \", list1[0])\n",
        "print (\"list2[1:3]: \", list2[1:3])\n",
        "\n",
        "#Updating a list value\n",
        "print (\"Value available at index 2 : \")\n",
        "print (list1[2])\n",
        "list1[2] = 999999;\n",
        "print (\"New value available at index 2 : \")\n",
        "print (list1[2])\n",
        "\n",
        "#Deleting a list value\n",
        "del(list1[2])\n",
        "print (\"After deleting value at index 2 :\")\n",
        "print (list1)"
      ],
      "execution_count": null,
      "outputs": [
        {
          "output_type": "stream",
          "name": "stdout",
          "text": [
            "list1[0]:  physics\n",
            "list2[1:3]:  [2, 3]\n",
            "Value available at index 2 : \n",
            "2001\n",
            "New value available at index 2 : \n",
            "999999\n",
            "After deleting value at index 2 :\n",
            "['physics', 'chemistry', 2000]\n"
          ]
        }
      ]
    },
    {
      "cell_type": "code",
      "metadata": {
        "colab": {
          "base_uri": "https://localhost:8080/"
        },
        "id": "An1dSP16hghl",
        "outputId": "a898e4a3-d5f7-4db7-8958-db2d107eb015"
      },
      "source": [
        "#To perform list operations using functions such as \n",
        "#len(), append(), count(), extend(), index()\n",
        "\n",
        "#len()\n",
        "print (\"First list length : \", len(list1),\"\\nSecond list length :\",len(list2))\n",
        "\n",
        "#append()\n",
        "list2.append(2009);\n",
        "print (\"Updated List : \", list2)\n",
        "\n",
        "#count\n",
        "aList = [123, 'xyz', 'xyz', 'abc', 123]\n",
        "print (\"Count for xyz : \", aList.count('xyz'))\n",
        "\n",
        "#extend()\n",
        "list1.extend(list2)\n",
        "print (\"Extended List : \", list1)\n",
        "\n",
        "#index()\n",
        "print (\"Index for chemistry : \", list1.index( 'chemistry' ) )"
      ],
      "execution_count": null,
      "outputs": [
        {
          "output_type": "stream",
          "name": "stdout",
          "text": [
            "First list length :  3 \n",
            "Second list length : 7\n",
            "Updated List :  [1, 2, 3, 4, 5, 6, 7, 2009]\n",
            "Count for xyz :  2\n",
            "Extended List :  ['physics', 'chemistry', 2000, 1, 2, 3, 4, 5, 6, 7, 2009]\n",
            "Index for chemistry :  1\n"
          ]
        }
      ]
    },
    {
      "cell_type": "code",
      "metadata": {
        "colab": {
          "base_uri": "https://localhost:8080/"
        },
        "id": "j41YBGlNhlPu",
        "outputId": "0fe68cd5-3ab2-4e8a-a483-d67c59267b10"
      },
      "source": [
        "#To perform list operations using functions such as \n",
        "#insert(), pop(), remove(), reverse(), sort()\n",
        "\n",
        "#insert()\n",
        "aList = [123, 'Keerthana', 'sai', 'Rakshi']\n",
        "print(\"List before insertion : \",aList)\n",
        "aList.insert( 3, 2001)\n",
        "print (\"Final List : \", aList)\n",
        "\n",
        "#pop()\n",
        "aList.pop()\n",
        "print(\"List after popping last element : \",aList)\n",
        "aList.pop(2)\n",
        "print(\"List after popping element from mentioned index: \",aList)"
      ],
      "execution_count": null,
      "outputs": [
        {
          "output_type": "stream",
          "name": "stdout",
          "text": [
            "List before insertion :  [123, 'Keerthana', 'sai', 'Rakshi']\n",
            "Final List :  [123, 'Keerthana', 'sai', 2001, 'Rakshi']\n",
            "List after popping last element :  [123, 'Keerthana', 'sai', 2001]\n",
            "List after popping element from mentioned index:  [123, 'Keerthana', 2001]\n"
          ]
        }
      ]
    }
  ]
}